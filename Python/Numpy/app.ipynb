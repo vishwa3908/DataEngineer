{
 "cells": [
  {
   "cell_type": "markdown",
   "metadata": {},
   "source": [
    "## Interview Preparation for NumPy"
   ]
  },
  {
   "cell_type": "markdown",
   "metadata": {},
   "source": [
    "#### What is NumPy?\n",
    "\n",
    "##### NumPy is a Python library used for working with arrays."
   ]
  },
  {
   "cell_type": "code",
   "execution_count": 20,
   "metadata": {},
   "outputs": [
    {
     "name": "stdout",
     "output_type": "stream",
     "text": [
      "Requirement already satisfied: numpy in c:\\users\\infoobjects_\\desktop\\dataengineer\\pyspark\\venv\\lib\\site-packages (1.26.2)\n",
      "Note: you may need to restart the kernel to use updated packages.\n"
     ]
    },
    {
     "name": "stderr",
     "output_type": "stream",
     "text": [
      "\n",
      "[notice] A new release of pip is available: 23.2.1 -> 23.3.2\n",
      "[notice] To update, run: python.exe -m pip install --upgrade pip\n"
     ]
    }
   ],
   "source": [
    "%pip install numpy"
   ]
  },
  {
   "cell_type": "markdown",
   "metadata": {},
   "source": [
    "#### List vs NumPy\n",
    "\n",
    "1. NumPy arrays are stored at one continuous place in memory unlike lists, so processes can access and manipulate them very efficiently so, numpy array is very fast as compared to lists.\n",
    "2. Numpy arrays have a fixed data type, meaning all elements must be of the same type. This leads to better performance and memory efficiency. In contrast, Python lists can contain elements of different data types.\n",
    "3. numpy array have extra functionality than lists\n",
    "4.  NumPy supports broadcasting, which is a powerful mechanism that allows NumPy to work with arrays of different shapes and sizes during arithmetic operations. \n",
    "\n",
    "\n",
    "        import numpy as np\n",
    "\n",
    "        arr1 = np.array([1, 2, 3])\n",
    "        arr2 = np.array([4, 5, 6])\n",
    "\n",
    "        result = arr1 + arr2  # NumPy automatically broadcasts the addition\n",
    "\n",
    "        print(result)\n",
    "        \n",
    "        Output: [5, 7, 9]\n",
    "\n"
   ]
  },
  {
   "cell_type": "markdown",
   "metadata": {},
   "source": [
    "### Working with arrays"
   ]
  },
  {
   "cell_type": "markdown",
   "metadata": {},
   "source": [
    "#### Ways of creating array in NumPy"
   ]
  },
  {
   "cell_type": "code",
   "execution_count": 21,
   "metadata": {},
   "outputs": [
    {
     "name": "stdout",
     "output_type": "stream",
     "text": [
      "[1 2 3 4 5 6]\n",
      "[ 0.   7.5 15. ]\n",
      "[ 1  5  9 13 17]\n",
      "[1.00000000e+01 5.62341325e+10 3.16227766e+20 1.77827941e+30\n",
      " 1.00000000e+40]\n",
      "[0. 0. 0. 0. 0.]\n",
      "[0 0 0 0 0]\n",
      "[1 1 1 1 1]\n",
      "\n",
      "[[[1 2 4]\n",
      "  [2 3 4]]\n",
      "\n",
      " [[3 4 5]\n",
      "  [6 5 4]]]\n"
     ]
    }
   ],
   "source": [
    "import numpy as np\n",
    "\n",
    "#1\n",
    "arr = np.array([1,2,3,4,5,6])\n",
    "print(arr)\n",
    "\n",
    "#2 \n",
    "arr1 = np.linspace(0,15,3)\n",
    "#linspace(start,end(included),parts) by default parts are 50 if not mentioned and type of array will be float\n",
    "print(arr1)\n",
    "\n",
    "#3\n",
    "arr2 = np.arange(1,21,4)\n",
    "# arange(start,end(excluded),steps)\n",
    "print(arr2)\n",
    "\n",
    "#4\n",
    "arr3 = np.logspace(1,40,5)\n",
    "# logspace(start,end,parts)\n",
    "# start from log 10 base 1,to log 10 base 40 and broken into 5 parts\n",
    "print(arr3)\n",
    "\n",
    "#5\n",
    "arr4 = np.zeros(5) #---- float\n",
    "arr5 = np.zeros(5,int) #----- int\n",
    "print(arr4)\n",
    "print(arr5)\n",
    "\n",
    "#6\n",
    "arr6 = np.ones(5,int)\n",
    "print(arr6)\n",
    "print()\n",
    "arr7 = np.array([[[1,2,4],[2,3,4]],[[3,4,5],[6,5,4]]])\n",
    "print(arr7)\n"
   ]
  },
  {
   "cell_type": "markdown",
   "metadata": {},
   "source": [
    "#### Operations on arrays"
   ]
  },
  {
   "cell_type": "code",
   "execution_count": 22,
   "metadata": {},
   "outputs": [
    {
     "name": "stdout",
     "output_type": "stream",
     "text": [
      "3\n",
      "1\n",
      "(2, 2, 3)\n",
      "(5,)\n",
      "float64\n",
      "int32\n",
      "4\n",
      "[5]\n",
      "-------------------\n",
      "[1 2 3 4 5 6] [[1 2 3 4 5 6]]\n",
      "[ 0.   7.5 15. ]\n",
      "[ 0.   7.5 15. ]\n",
      "[ 0.   7.5 29. ]\n",
      "[1 2 3 4 5 6]\n",
      "=======================\n",
      "[[1 2 5 6]\n",
      " [3 4 7 8]]\n",
      "[[1 2]\n",
      " [3 4]\n",
      " [5 6]\n",
      " [7 8]]\n",
      "++++++++++++++++++++\n",
      "[array([[1, 2]]), array([[3, 4]]), array([[5, 6]]), array([[7, 8]]), array([], shape=(0, 2), dtype=int32), array([], shape=(0, 2), dtype=int32)]\n",
      "(array([3, 5, 6], dtype=int64),) (array([4], dtype=int64),)\n",
      "2\n",
      "[ 5  6 11 43 88]\n",
      "[[  3   4  11]\n",
      " [  0   6  55]\n",
      " [-32  -5   9]]\n"
     ]
    }
   ],
   "source": [
    "#--- Get Dimenshion\n",
    "print(arr7.ndim)\n",
    "print(arr5.ndim)\n",
    "\n",
    "#--- Get Shape\n",
    "print(arr7.shape)\n",
    "print(arr6.shape)\n",
    "\n",
    "#--- Get Type\n",
    "print(arr4.dtype)\n",
    "print(arr7.dtype)\n",
    "\n",
    "#--- Accessing and changing specific elements in array(row,columns,etc)\n",
    "print(arr7[1,1,2])\n",
    "\n",
    "#--- Slicing (start,end(exclusive),step)\n",
    "print(arr2[1:2:1])\n",
    "\n",
    "print(\"-------------------\")\n",
    "#---reshape\n",
    "print(arr,arr.reshape(1,6))\n",
    "\n",
    "#--- Copying an array\n",
    "# use copy keyword else original array will be changed also\n",
    "print(arr1)\n",
    "b = arr1\n",
    "c = arr1.copy()\n",
    "b[2] = 29\n",
    "print(c)\n",
    "print(arr1)\n",
    "\n",
    "\n",
    "#--- join\n",
    "arr1 = np.array([1, 2, 3])\n",
    "\n",
    "arr2 = np.array([4, 5, 6])\n",
    "\n",
    "arr = np.concatenate((arr1, arr2))\n",
    "\n",
    "print(arr)\n",
    "\n",
    "print(\"=======================\")\n",
    "arr1 = np.array([[1, 2], [3, 4]])\n",
    "\n",
    "arr2 = np.array([[5, 6], [7, 8]])\n",
    "\n",
    "arr = np.concatenate((arr1, arr2), axis=0)\n",
    "print(np.concatenate((arr1,arr2),axis=1))\n",
    "print(arr)\n",
    "print(\"++++++++++++++++++++\")\n",
    "#--- array_split()  \n",
    "'''We use array_split() for splitting arrays, we pass it the array we want to split and the number of splits.'''  \n",
    "'''If the array has less elements than required, it will adjust from the end accordingly.'''          \n",
    "print(np.array_split(arr,6))\n",
    "\n",
    "#--- Array Search\n",
    "'''You can search an array for a certain value, and return the indexes that get a match.\n",
    "\n",
    "To search an array, use the where() method.'''\n",
    "arr = np.array([1, 2, 3, 4, 5, 4, 4])\n",
    "\n",
    "x = np.where(arr == 4)\n",
    "y = np.where(arr == 5)\n",
    "\n",
    "print(x,y)\n",
    "\n",
    "#--- Search Sorted()\n",
    "'''There is a method called searchsorted() which performs a binary search in the array,\n",
    " and returns the index where the specified value would be inserted to maintain the search order.'''\n",
    "### assumed to be used on sorted arrays\n",
    "\n",
    "print(np.searchsorted(np.array([1,2,5,7,9]),4))\n",
    "\n",
    "#--- sort()\n",
    "''' It returns copy of the original array\n",
    "If you use the sort() method on a 2-D array, both arrays will be sorted:'''\n",
    "print(np.sort(np.array([11,43,5,6,88])))\n",
    "print(np.sort(np.array([11,3,4,55,6,0,-5,9,-32]).reshape(3,3)))\n",
    "\n"
   ]
  },
  {
   "cell_type": "code",
   "execution_count": 23,
   "metadata": {},
   "outputs": [],
   "source": [
    "import copy"
   ]
  },
  {
   "cell_type": "code",
   "execution_count": 24,
   "metadata": {},
   "outputs": [
    {
     "name": "stdout",
     "output_type": "stream",
     "text": [
      "[[1, 2, 3], [4, 5, 6]] [[1, 2, 3], [4, 5, 6]]\n",
      "[[1, 22, 3], [4, 5, 6]] [[1, 22, 3], [4, 5, 6]]\n",
      "2171376215744 2171376220160\n"
     ]
    }
   ],
   "source": [
    "check = [[1,2,3],[4,5,6]]\n",
    "b = copy.copy(check)\n",
    "# b[0] = [6,7,5]\n",
    "print(b,check)\n",
    "b[0][1] = 22\n",
    "print(b,check)\n",
    "print(id(b),id(check))"
   ]
  },
  {
   "cell_type": "code",
   "execution_count": null,
   "metadata": {},
   "outputs": [],
   "source": []
  }
 ],
 "metadata": {
  "kernelspec": {
   "display_name": "Python 3 (ipykernel)",
   "language": "python",
   "name": "python3"
  },
  "language_info": {
   "codemirror_mode": {
    "name": "ipython",
    "version": 3
   },
   "file_extension": ".py",
   "mimetype": "text/x-python",
   "name": "python",
   "nbconvert_exporter": "python",
   "pygments_lexer": "ipython3",
   "version": "3.11.5"
  }
 },
 "nbformat": 4,
 "nbformat_minor": 2
}
