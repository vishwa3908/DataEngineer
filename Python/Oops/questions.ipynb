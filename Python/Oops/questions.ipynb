{
 "cells": [
  {
   "cell_type": "markdown",
   "metadata": {},
   "source": [
    "## Interview Questions"
   ]
  },
  {
   "cell_type": "markdown",
   "metadata": {},
   "source": [
    "1. What is OOPS?\n",
    "\n",
    "    OOPs refers to Object-Oriented Programming. It is the programming paradigm that is defined using objects. "
   ]
  },
  {
   "cell_type": "markdown",
   "metadata": {},
   "source": [
    "2. What is the need for OOPS?\n",
    "\n",
    "    With OOPs, the readability, understandability, and maintainability of the code increase multifold.\n",
    "    \n",
    "    OOPs, promote code reuse, thereby reducing redundancy.\n",
    "    "
   ]
  },
  {
   "cell_type": "markdown",
   "metadata": {},
   "source": [
    "3. What are the main features of OOPS?\n",
    "\n",
    "    * Inheritance\n",
    "    * Encapsulation\n",
    "    * Polymorphism\n",
    "    * Data Abstraction"
   ]
  },
  {
   "cell_type": "markdown",
   "metadata": {},
   "source": [
    "4. What is a class ?\n",
    "\n",
    "    class is basically a template or blueprint for objects"
   ]
  },
  {
   "cell_type": "markdown",
   "metadata": {},
   "source": [
    "5. What is an object ?\n",
    "\n",
    "    An object refers to the instance of the class"
   ]
  },
  {
   "cell_type": "markdown",
   "metadata": {},
   "source": [
    "6. "
   ]
  }
 ],
 "metadata": {
  "kernelspec": {
   "display_name": "Python 3 (ipykernel)",
   "language": "python",
   "name": "python3"
  },
  "language_info": {
   "codemirror_mode": {
    "name": "ipython",
    "version": 3
   },
   "file_extension": ".py",
   "mimetype": "text/x-python",
   "name": "python",
   "nbconvert_exporter": "python",
   "pygments_lexer": "ipython3",
   "version": "3.11.5"
  }
 },
 "nbformat": 4,
 "nbformat_minor": 2
}
