{
 "cells": [
  {
   "cell_type": "markdown",
   "metadata": {},
   "source": [
    "## OOPS Concept"
   ]
  },
  {
   "cell_type": "markdown",
   "metadata": {},
   "source": [
    "### Class\n",
    "\n",
    "A class is a collection of objects. A class contains the blueprints or the prototype from which the objects are being created. It is a logical entity that contains some attributes and methods. "
   ]
  },
  {
   "cell_type": "code",
   "execution_count": 9,
   "metadata": {},
   "outputs": [
    {
     "name": "stdout",
     "output_type": "stream",
     "text": [
      "16gb Ram\n"
     ]
    }
   ],
   "source": [
    "class Computer:\n",
    "\n",
    "    def config(self):\n",
    "        print(\"16gb Ram\")\n",
    "\n",
    "obj = Computer()\n",
    "obj.config()"
   ]
  },
  {
   "cell_type": "markdown",
   "metadata": {},
   "source": [
    "#### Self Keyword\n",
    "Self represents the instance of the class. By using the “self”  we can access the attributes and methods of the class in Python"
   ]
  },
  {
   "cell_type": "code",
   "execution_count": 10,
   "metadata": {},
   "outputs": [
    {
     "name": "stdout",
     "output_type": "stream",
     "text": [
      "16gb Ram\n"
     ]
    }
   ],
   "source": [
    "class Computer:\n",
    "\n",
    "    def config(self):\n",
    "        print(\"16gb Ram\")\n",
    "\n",
    "obj = Computer()\n",
    "obj.config()"
   ]
  },
  {
   "cell_type": "markdown",
   "metadata": {},
   "source": [
    "####  __init__ Constructor\n",
    "It is run as soon as an object of a class is instantiated"
   ]
  },
  {
   "cell_type": "code",
   "execution_count": 11,
   "metadata": {},
   "outputs": [
    {
     "name": "stdout",
     "output_type": "stream",
     "text": [
      "in init constructor\n",
      "16gb Ram\n"
     ]
    }
   ],
   "source": [
    "class Computer:\n",
    "\n",
    "    def __init__(self) -> None:\n",
    "        print(\"in init constructor\")\n",
    "\n",
    "    def config(self):\n",
    "        print(\"16gb Ram\")\n",
    "\n",
    "obj = Computer()\n",
    "obj.config()"
   ]
  },
  {
   "cell_type": "markdown",
   "metadata": {},
   "source": [
    "### Variables"
   ]
  },
  {
   "cell_type": "markdown",
   "metadata": {},
   "source": [
    "Instance Variables ->\n",
    "1. It is basically a class variable without a static modifier and is usually shared by all class instances. \n",
    "2. Across different objects, these variables can have different values. \n",
    "3. They are tied to a particular object instance of the class, therefore, the contents of an instance variable are totally independent of one object instance to others\n",
    "\n",
    "Static(class) Variables -> \n",
    "1. Static variables are created outside of methods but inside a class\n",
    "2. Static variables can be accessed through a class but not directly with an instance.\n",
    "3. Static variables behavior doesn’t change for every object."
   ]
  },
  {
   "cell_type": "code",
   "execution_count": 12,
   "metadata": {},
   "outputs": [
    {
     "name": "stdout",
     "output_type": "stream",
     "text": [
      "10 11\n",
      "21 21\n"
     ]
    }
   ],
   "source": [
    "class Computer:\n",
    "\n",
    "    graphics = 8\n",
    "\n",
    "    def __init__(self,ram) -> None:\n",
    "        self.ram = ram\n",
    "\n",
    "\n",
    "obj = Computer(10)\n",
    "obj1 = Computer(11)\n",
    "Computer.graphics = 21\n",
    "print(obj.ram,obj1.ram)\n",
    "print(obj.graphics,obj1.graphics)"
   ]
  },
  {
   "cell_type": "markdown",
   "metadata": {},
   "source": [
    "### Methods"
   ]
  },
  {
   "cell_type": "markdown",
   "metadata": {},
   "source": [
    "1. Instance\n",
    "2. Static\n",
    "3. Class\n",
    "\n",
    "Instance -> methods used on instance variables\n",
    "\n",
    "Static -> methods which do not used static or instance variables\n",
    "\n",
    "class -> methods used for class variables\n"
   ]
  },
  {
   "cell_type": "code",
   "execution_count": 13,
   "metadata": {},
   "outputs": [
    {
     "name": "stdout",
     "output_type": "stream",
     "text": [
      "21 33\n",
      "MNIT\n",
      "WELCOME TO MNIT\n"
     ]
    }
   ],
   "source": [
    "class Student:\n",
    "\n",
    "    school = 'MNIT'\n",
    "\n",
    "    def __init__(self,branch,marks) -> None:\n",
    "        self.branch  = branch\n",
    "        self.marks = marks\n",
    "\n",
    "    def get_marks(self):\n",
    "        return self.marks\n",
    "\n",
    "    @classmethod\n",
    "    def get_school(cls):\n",
    "        return cls.school\n",
    "    \n",
    "    @staticmethod\n",
    "    def welcome_msg():\n",
    "        return \"WELCOME TO MNIT\"\n",
    "    \n",
    "obj1 = Student('Meta',21)\n",
    "obj2 = Student('Civil',33)\n",
    "print(obj1.get_marks(),obj2.get_marks())\n",
    "print(Student.get_school())\n",
    "print(Student.welcome_msg())"
   ]
  },
  {
   "cell_type": "markdown",
   "metadata": {},
   "source": [
    "### Inner Class"
   ]
  },
  {
   "cell_type": "markdown",
   "metadata": {},
   "source": [
    "### Inheritance"
   ]
  },
  {
   "cell_type": "markdown",
   "metadata": {},
   "source": [
    "#### super keyword"
   ]
  },
  {
   "cell_type": "markdown",
   "metadata": {},
   "source": [
    "if we have one class inheriting super class then when declaring object of 2nd class It will call constructor of second class but if we need to call constructor or methods of first clss we can use super"
   ]
  },
  {
   "cell_type": "code",
   "execution_count": 16,
   "metadata": {},
   "outputs": [
    {
     "name": "stdout",
     "output_type": "stream",
     "text": [
      "in class B\n"
     ]
    }
   ],
   "source": [
    "class A:\n",
    "\n",
    "    def __init__(self) -> None:\n",
    "        print(\"In class A\")\n",
    "\n",
    "class B(A):\n",
    "    def __init__(self):\n",
    "        print(\"in class B\")\n",
    "obj1 = B()"
   ]
  },
  {
   "cell_type": "code",
   "execution_count": 18,
   "metadata": {},
   "outputs": [
    {
     "name": "stdout",
     "output_type": "stream",
     "text": [
      "In class A\n",
      "in class B\n",
      "Method of A\n"
     ]
    }
   ],
   "source": [
    "class A:\n",
    "\n",
    "    def __init__(self) -> None:\n",
    "        print(\"In class A\")\n",
    "    \n",
    "    def method_a(self):\n",
    "        print(\"Method of A\")\n",
    "\n",
    "class B(A):\n",
    "    def __init__(self):\n",
    "        super().__init__()\n",
    "        print(\"in class B\")\n",
    "        super().method_a()\n",
    "obj1 = B()"
   ]
  },
  {
   "cell_type": "markdown",
   "metadata": {},
   "source": [
    "#### Method Resolution Order\n",
    "\n",
    "if we have a class c having two inheritance A and B , so whenever any super () keyword is called in a it will always follow from left to right"
   ]
  },
  {
   "cell_type": "code",
   "execution_count": 19,
   "metadata": {},
   "outputs": [
    {
     "name": "stdout",
     "output_type": "stream",
     "text": [
      "In c\n",
      "In class A\n"
     ]
    }
   ],
   "source": [
    "\n",
    "class A:\n",
    "\n",
    "    def __init__(self) -> None:\n",
    "        print(\"In class A\")\n",
    "    \n",
    "    def method(self):\n",
    "        print(\"Method of A\")\n",
    "\n",
    "class B():\n",
    "    def __init__(self):\n",
    "        print(\"in class B\")\n",
    "\n",
    "class C(A,B):\n",
    "    def __init__(self) -> None:\n",
    "        print(\"In c\")\n",
    "        super().__init__()\n",
    "       \n",
    "obj1 = C()"
   ]
  },
  {
   "cell_type": "markdown",
   "metadata": {},
   "source": [
    "### Polymorphism"
   ]
  },
  {
   "cell_type": "markdown",
   "metadata": {},
   "source": [
    "1. Duck Typing\n",
    "2. Operator Overloading\n",
    "3. Method Overloading\n",
    "4. Method Overriding"
   ]
  },
  {
   "cell_type": "markdown",
   "metadata": {},
   "source": [
    "#### 1. Duck Typing"
   ]
  },
  {
   "cell_type": "markdown",
   "metadata": {},
   "source": [
    "### ABSTRACT CLASS AND ABSTRACT METHODS\n",
    "\n",
    "abstract class act as a bluepring for creating other classes and classes should have all\n",
    "the methods defined under the abstract class as abstract methods\n",
    "no object can be created for abstract class"
   ]
  },
  {
   "cell_type": "code",
   "execution_count": 22,
   "metadata": {},
   "outputs": [
    {
     "name": "stdout",
     "output_type": "stream",
     "text": [
      "16gb Ram\n"
     ]
    }
   ],
   "source": [
    "from abc import ABC,abstractmethod\n",
    "class Computer(ABC):\n",
    "    @abstractmethod\n",
    "    def specifications(self):\n",
    "        pass\n",
    "\n",
    "class Laptop(Computer):\n",
    "    def specifications(self):\n",
    "        print(\"16gb Ram\")\n",
    "    \n",
    "\n",
    "l = Laptop()\n",
    "l.specifications()"
   ]
  },
  {
   "cell_type": "code",
   "execution_count": null,
   "metadata": {},
   "outputs": [],
   "source": []
  }
 ],
 "metadata": {
  "kernelspec": {
   "display_name": "Python 3 (ipykernel)",
   "language": "python",
   "name": "python3"
  },
  "language_info": {
   "codemirror_mode": {
    "name": "ipython",
    "version": 3
   },
   "file_extension": ".py",
   "mimetype": "text/x-python",
   "name": "python",
   "nbconvert_exporter": "python",
   "pygments_lexer": "ipython3",
   "version": "3.11.5"
  }
 },
 "nbformat": 4,
 "nbformat_minor": 2
}
