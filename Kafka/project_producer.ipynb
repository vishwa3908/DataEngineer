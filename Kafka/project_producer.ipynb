{
 "cells": [
  {
   "cell_type": "code",
   "execution_count": 31,
   "metadata": {},
   "outputs": [
    {
     "name": "stdout",
     "output_type": "stream",
     "text": [
      "Requirement already satisfied: confluent-kafka in c:\\users\\infoobjects_\\desktop\\dataengineer\\pyspark\\venv\\lib\\site-packages (2.3.0)Note: you may need to restart the kernel to use updated packages.\n"
     ]
    },
    {
     "name": "stderr",
     "output_type": "stream",
     "text": [
      "\n",
      "[notice] A new release of pip is available: 23.2.1 -> 23.3.2\n",
      "[notice] To update, run: python.exe -m pip install --upgrade pip\n"
     ]
    },
    {
     "name": "stdout",
     "output_type": "stream",
     "text": [
      "\n",
      "Requirement already satisfied: pandas in c:\\users\\infoobjects_\\desktop\\dataengineer\\pyspark\\venv\\lib\\site-packages (2.1.4)\n",
      "Requirement already satisfied: numpy<2,>=1.23.2 in c:\\users\\infoobjects_\\desktop\\dataengineer\\pyspark\\venv\\lib\\site-packages (from pandas) (1.26.2)\n",
      "Requirement already satisfied: python-dateutil>=2.8.2 in c:\\users\\infoobjects_\\desktop\\dataengineer\\pyspark\\venv\\lib\\site-packages (from pandas) (2.8.2)\n",
      "Requirement already satisfied: pytz>=2020.1 in c:\\users\\infoobjects_\\desktop\\dataengineer\\pyspark\\venv\\lib\\site-packages (from pandas) (2023.3.post1)\n",
      "Requirement already satisfied: tzdata>=2022.1 in c:\\users\\infoobjects_\\desktop\\dataengineer\\pyspark\\venv\\lib\\site-packages (from pandas) (2023.3)\n",
      "Requirement already satisfied: six>=1.5 in c:\\users\\infoobjects_\\desktop\\dataengineer\\pyspark\\venv\\lib\\site-packages (from python-dateutil>=2.8.2->pandas) (1.16.0)\n",
      "Note: you may need to restart the kernel to use updated packages.\n"
     ]
    },
    {
     "name": "stderr",
     "output_type": "stream",
     "text": [
      "\n",
      "[notice] A new release of pip is available: 23.2.1 -> 23.3.2\n",
      "[notice] To update, run: python.exe -m pip install --upgrade pip\n"
     ]
    }
   ],
   "source": [
    "%pip install confluent-kafka\n",
    "%pip install pandas"
   ]
  },
  {
   "cell_type": "code",
   "execution_count": 32,
   "metadata": {},
   "outputs": [],
   "source": [
    "from confluent_kafka import Producer\n",
    "import pandas as pd\n",
    "from json import dumps\n",
    "import time\n",
    "import json"
   ]
  },
  {
   "cell_type": "code",
   "execution_count": 33,
   "metadata": {},
   "outputs": [
    {
     "name": "stdout",
     "output_type": "stream",
     "text": [
      "   ID                     Created At  Discount  Product ID  Quantity  \\\n",
      "0   1  2019-02-11T21:40:27.892+05:30       NaN          14         2   \n",
      "\n",
      "    Subtotal   Tax      Total  User ID  \n",
      "0  37.648145  2.07  39.718145        1  \n",
      "{'ID': 1, 'Created At': '2019-02-11T21:40:27.892+05:30', 'Discount': nan, 'Product ID': 14, 'Quantity': 2, 'Subtotal': 37.648145389078365, 'Tax': 2.07, 'Total': 39.718145389078366, 'User ID': 1}\n",
      "Kafka Producer Started ......................\n",
      "Message to be sent ->  b'{\"ID\": 1, \"Created At\": \"2019-02-11T21:40:27.892+05:30\", \"Discount\": NaN, \"Product ID\": 14, \"Quantity\": 2, \"Subtotal\": 37.648145389078365, \"Tax\": 2.07, \"Total\": 39.718145389078366, \"User ID\": 1}'\n",
      "Message to be sent ->  b'{\"ID\": 2, \"Created At\": \"2018-05-15T08:04:04.580+05:30\", \"Discount\": NaN, \"Product ID\": 123, \"Quantity\": 3, \"Subtotal\": 110.93145648834248, \"Tax\": 6.1, \"Total\": 117.0376564084763, \"User ID\": 1}'\n",
      "Message to be sent ->  b'{\"ID\": 3, \"Created At\": \"2019-12-06T22:22:48.544+05:30\", \"Discount\": 6.416679208849759, \"Product ID\": 105, \"Quantity\": 2, \"Subtotal\": 52.72352144261952, \"Tax\": 2.9, \"Total\": 55.62208681964182, \"User ID\": 1}'\n",
      "Message to be sent ->  b'{\"ID\": 4, \"Created At\": \"2019-08-22T16:30:42.392+05:30\", \"Discount\": NaN, \"Product ID\": 94, \"Quantity\": 6, \"Subtotal\": 109.21864156655384, \"Tax\": 6.01, \"Total\": 115.2207354961295, \"User ID\": 1}'\n",
      "Message to be sent ->  b'{\"ID\": 5, \"Created At\": \"2018-10-10T03:34:47.309+05:30\", \"Discount\": NaN, \"Product ID\": 132, \"Quantity\": 5, \"Subtotal\": 127.88197029833712, \"Tax\": 7.03, \"Total\": 134.9419293529647, \"User ID\": 1}'\n",
      "Message to be sent ->  b'{\"ID\": 6, \"Created At\": \"2019-11-06T16:38:50.134+05:30\", \"Discount\": NaN, \"Product ID\": 60, \"Quantity\": 3, \"Subtotal\": 29.80214751859149, \"Tax\": 1.64, \"Total\": 31.441679133237017, \"User ID\": 1}'\n",
      "Message to be sent ->  b'{\"ID\": 7, \"Created At\": \"2018-09-11T11:22:26.521+05:30\", \"Discount\": NaN, \"Product ID\": 55, \"Quantity\": 5, \"Subtotal\": 95.77128575934437, \"Tax\": 5.27, \"Total\": 101.0610510221304, \"User ID\": 1}'\n",
      "Message to be sent ->  b'{\"ID\": 8, \"Created At\": \"2019-06-17T02:37:41.693+05:30\", \"Discount\": 8.653952930206964, \"Product ID\": 65, \"Quantity\": 7, \"Subtotal\": 68.22769726470014, \"Tax\": 3.75, \"Total\": 71.9646003804807, \"User ID\": 1}'\n",
      "Message to be sent ->  b'{\"ID\": 9, \"Created At\": \"2017-05-03T16:00:54.923+05:30\", \"Discount\": 3.594742155259162, \"Product ID\": 184, \"Quantity\": 3, \"Subtotal\": 77.3982748679465, \"Tax\": 4.26, \"Total\": 81.6742695904106, \"User ID\": 1}'\n",
      "Message to be sent ->  b'{\"ID\": 10, \"Created At\": \"2020-01-17T01:44:37.233+05:30\", \"Discount\": NaN, \"Product ID\": 6, \"Quantity\": 2, \"Subtotal\": 97.43621265344382, \"Tax\": 5.36, \"Total\": 102.77055805103969, \"User ID\": 1}'\n",
      "Message to be sent ->  b'{\"ID\": 11, \"Created At\": \"2018-07-22T20:31:01.969+05:30\", \"Discount\": NaN, \"Product ID\": 76, \"Quantity\": 6, \"Subtotal\": 63.82421061366486, \"Tax\": 3.51, \"Total\": 67.30535713840213, \"User ID\": 1}'\n",
      "Message to be sent ->  b'{\"ID\": 12, \"Created At\": \"2018-06-26T23:21:13.271+05:30\", \"Discount\": NaN, \"Product ID\": 7, \"Quantity\": 7, \"Subtotal\": 148.22900526552291, \"Tax\": 10.19, \"Total\": 158.44538230476374, \"User ID\": 3}'\n",
      "Message to be sent ->  b'{\"ID\": 13, \"Created At\": \"2019-04-06T01:04:43.973+05:30\", \"Discount\": 2.1173410336074987, \"Product ID\": 70, \"Quantity\": 2, \"Subtotal\": 57.49300380895978, \"Tax\": 3.95, \"Total\": 61.42339339833593, \"User ID\": 3}'\n",
      "Message to be sent ->  b'{\"ID\": 14, \"Created At\": \"2017-05-25T20:50:37.137+05:30\", \"Discount\": NaN, \"Product ID\": 139, \"Quantity\": 4, \"Subtotal\": 51.18512212784679, \"Tax\": 3.52, \"Total\": 54.67137322414436, \"User ID\": 3}'\n",
      "Message to be sent ->  b'{\"ID\": 15, \"Created At\": \"2018-06-26T02:24:38.715+05:30\", \"Discount\": NaN, \"Product ID\": 116, \"Quantity\": 5, \"Subtotal\": 114.42485125407784, \"Tax\": 7.87, \"Total\": 122.30918146348137, \"User ID\": 3}'\n",
      "Message to be sent ->  b'{\"ID\": 16, \"Created At\": \"2017-12-14T11:28:30.031+05:30\", \"Discount\": NaN, \"Product ID\": 68, \"Quantity\": 1, \"Subtotal\": 76.82895921539838, \"Tax\": 5.28, \"Total\": 82.15964553750338, \"User ID\": 3}'\n",
      "Message to be sent ->  b'{\"ID\": 17, \"Created At\": \"2020-02-06T12:14:36.282+05:30\", \"Discount\": NaN, \"Product ID\": 48, \"Quantity\": 1, \"Subtotal\": 123.20884248534108, \"Tax\": 8.47, \"Total\": 131.65987891080383, \"User ID\": 3}'\n",
      "Message to be sent ->  b'{\"ID\": 18, \"Created At\": \"2020-04-10T23:29:46.804+05:30\", \"Discount\": NaN, \"Product ID\": 12, \"Quantity\": 2, \"Subtotal\": 116.01427581618326, \"Tax\": 7.98, \"Total\": 123.93528398902328, \"User ID\": 3}'\n",
      "Message to be sent ->  b'{\"ID\": 19, \"Created At\": \"2019-02-14T07:28:31.104+05:30\", \"Discount\": NaN, \"Product ID\": 136, \"Quantity\": 1, \"Subtotal\": 105.20402317157344, \"Tax\": 7.23, \"Total\": 112.53044509193752, \"User ID\": 3}'\n",
      "Message to be sent ->  b'{\"ID\": 20, \"Created At\": \"2018-04-21T04:18:01.863+05:30\", \"Discount\": 9.480671222888349, \"Product ID\": 160, \"Quantity\": 4, \"Subtotal\": 47.59120561297272, \"Tax\": 3.27, \"Total\": 50.86583592650371, \"User ID\": 3}'\n",
      "Message to be sent ->  b'{\"ID\": 21, \"Created At\": \"2018-05-02T03:57:22.388+05:30\", \"Discount\": NaN, \"Product ID\": 94, \"Quantity\": 5, \"Subtotal\": 109.21864156655384, \"Tax\": 7.51, \"Total\": 116.62982729669602, \"User ID\": 3}'\n",
      "Message to be sent ->  b'{\"ID\": 22, \"Created At\": \"2019-12-12T21:32:01.533+05:30\", \"Discount\": 6.752650070439861, \"Product ID\": 10, \"Quantity\": 1, \"Subtotal\": 47.6793282102869, \"Tax\": 1.38, \"Total\": 49.056071014283766, \"User ID\": 4}'\n",
      "Message to be sent ->  b'{\"ID\": 23, \"Created At\": \"2019-06-02T11:33:15.096+05:30\", \"Discount\": NaN, \"Product ID\": 85, \"Quantity\": 5, \"Subtotal\": 54.90104734428525, \"Tax\": 1.59, \"Total\": 56.5115886738793, \"User ID\": 4}'\n",
      "Message to be sent ->  b'{\"ID\": 24, \"Created At\": \"2019-09-20T17:28:38.643+05:30\", \"Discount\": NaN, \"Product ID\": 14, \"Quantity\": 6, \"Subtotal\": 37.648145389078365, \"Tax\": 1.09, \"Total\": 38.74860139651864, \"User ID\": 4}'\n",
      "Message to be sent ->  b'{\"ID\": 25, \"Created At\": \"2019-12-21T12:23:13.696+05:30\", \"Discount\": NaN, \"Product ID\": 97, \"Quantity\": 2, \"Subtotal\": 112.41825444654248, \"Tax\": 3.26, \"Total\": 115.64052715703252, \"User ID\": 4}'\n",
      "Message to be sent ->  b'{\"ID\": 26, \"Created At\": \"2018-06-20T02:18:00.254+05:30\", \"Discount\": NaN, \"Product ID\": 40, \"Quantity\": 5, \"Subtotal\": 99.66240044231697, \"Tax\": 3.99, \"Total\": 103.57613671689576, \"User ID\": 5}'\n",
      "Message to be sent ->  b'{\"ID\": 27, \"Created At\": \"2019-04-28T07:01:15.932+05:30\", \"Discount\": NaN, \"Product ID\": 14, \"Quantity\": 2, \"Subtotal\": 37.648145389078365, \"Tax\": 1.51, \"Total\": 39.11528698753412, \"User ID\": 6}'\n",
      "Message to be sent ->  b'{\"ID\": 28, \"Created At\": \"2018-05-23T18:15:24.432+05:30\", \"Discount\": 9.145059274307002, \"Product ID\": 49, \"Quantity\": 4, \"Subtotal\": 131.42865839323724, \"Tax\": 5.26, \"Total\": 136.77951877238797, \"User ID\": 6}'\n",
      "Message to be sent ->  b'{\"ID\": 29, \"Created At\": \"2018-03-07T22:56:54.735+05:30\", \"Discount\": NaN, \"Product ID\": 45, \"Quantity\": 1, \"Subtotal\": 118.0495173798411, \"Tax\": 4.72, \"Total\": 122.6773063807222, \"User ID\": 6}'\n",
      "Message to be sent ->  b'{\"ID\": 30, \"Created At\": \"2019-04-15T12:24:20.170+05:30\", \"Discount\": NaN, \"Product ID\": 179, \"Quantity\": 3, \"Subtotal\": 68.32408657333919, \"Tax\": 2.73, \"Total\": 71.02493653936602, \"User ID\": 6}'\n",
      "Message to be sent ->  b'{\"ID\": 31, \"Created At\": \"2018-05-22T04:28:04.569+05:30\", \"Discount\": NaN, \"Product ID\": 191, \"Quantity\": 6, \"Subtotal\": 128.5841852057933, \"Tax\": 9.0, \"Total\": 137.8019637279584, \"User ID\": 7}'\n",
      "Message to be sent ->  b'{\"ID\": 32, \"Created At\": \"2018-06-04T05:11:15.294+05:30\", \"Discount\": NaN, \"Product ID\": 82, \"Quantity\": 7, \"Subtotal\": 60.89545738030947, \"Tax\": 4.26, \"Total\": 65.15833624900348, \"User ID\": 7}'\n",
      "Message to be sent ->  b'{\"ID\": 33, \"Created At\": \"2019-06-18T11:17:03.676+05:30\", \"Discount\": 6.481030997355338, \"Product ID\": 172, \"Quantity\": 4, \"Subtotal\": 122.3651993029456, \"Tax\": 8.57, \"Total\": 130.97012158989244, \"User ID\": 7}'\n",
      "Message to be sent ->  b'{\"ID\": 34, \"Created At\": \"2019-01-04T21:12:38.428+05:30\", \"Discount\": NaN, \"Product ID\": 3, \"Quantity\": 1, \"Subtotal\": 53.08311732230858, \"Tax\": 3.72, \"Total\": 56.80533257859876, \"User ID\": 7}'\n",
      "Message to be sent ->  b'{\"ID\": 35, \"Created At\": \"2017-10-10T01:37:18.769+05:30\", \"Discount\": NaN, \"Product ID\": 21, \"Quantity\": 5, \"Subtotal\": 40.38334406304544, \"Tax\": 2.83, \"Total\": 43.27836200894579, \"User ID\": 7}'\n",
      "Message to be sent ->  b'{\"ID\": 36, \"Created At\": \"2018-07-04T00:34:31.322+05:30\", \"Discount\": NaN, \"Product ID\": 145, \"Quantity\": 4, \"Subtotal\": 61.1983004605443, \"Tax\": 4.28, \"Total\": 65.52684708658961, \"User ID\": 7}'\n",
      "Message to be sent ->  b'{\"ID\": 37, \"Created At\": \"2017-08-30T12:40:52.641+05:30\", \"Discount\": NaN, \"Product ID\": 17, \"Quantity\": 4, \"Subtotal\": 53.290720311951766, \"Tax\": 3.73, \"Total\": 57.008904417553445, \"User ID\": 7}'\n",
      "Message to be sent ->  b'{\"ID\": 38, \"Created At\": \"2018-07-25T23:27:34.530+05:30\", \"Discount\": NaN, \"Product ID\": 39, \"Quantity\": 5, \"Subtotal\": 114.5815818028346, \"Tax\": 8.02, \"Total\": 122.43499029028855, \"User ID\": 7}'\n",
      "Message to be sent ->  b'{\"ID\": 39, \"Created At\": \"2018-05-09T03:09:25.897+05:30\", \"Discount\": NaN, \"Product ID\": 142, \"Quantity\": 4, \"Subtotal\": 70.34853057210945, \"Tax\": 4.92, \"Total\": 75.38095754001415, \"User ID\": 7}'\n",
      "Message to be sent ->  b'{\"ID\": 40, \"Created At\": \"2019-11-21T23:35:02.479+05:30\", \"Discount\": NaN, \"Product ID\": 101, \"Quantity\": 2, \"Subtotal\": 139.82488066180403, \"Tax\": 9.79, \"Total\": 149.7360813013385, \"User ID\": 7}'\n",
      "Message to be sent ->  b'{\"ID\": 41, \"Created At\": \"2018-12-04T00:08:37.569+05:30\", \"Discount\": NaN, \"Product ID\": 51, \"Quantity\": 2, \"Subtotal\": 75.65058751905018, \"Tax\": 5.3, \"Total\": 81.10438260941211, \"User ID\": 7}'\n",
      "Message to be sent ->  b'{\"ID\": 42, \"Created At\": \"2019-11-16T08:11:08.666+05:30\", \"Discount\": NaN, \"Product ID\": 145, \"Quantity\": 3, \"Subtotal\": 61.1983004605443, \"Tax\": 4.28, \"Total\": 65.5559297559252, \"User ID\": 7}'\n",
      "Message to be sent ->  b'{\"ID\": 43, \"Created At\": \"2019-11-03T20:24:38.219+05:30\", \"Discount\": NaN, \"Product ID\": 193, \"Quantity\": 3, \"Subtotal\": 50.38077396807232, \"Tax\": 3.27, \"Total\": 53.70507001111754, \"User ID\": 8}'\n",
      "Message to be sent ->  b'{\"ID\": 44, \"Created At\": \"2017-10-01T14:47:29.444+05:30\", \"Discount\": NaN, \"Product ID\": 101, \"Quantity\": 6, \"Subtotal\": 93.21658710786936, \"Tax\": 6.06, \"Total\": 99.33443001127412, \"User ID\": 8}'\n",
      "Message to be sent ->  b'{\"ID\": 45, \"Created At\": \"2017-09-25T00:11:10.923+05:30\", \"Discount\": NaN, \"Product ID\": 141, \"Quantity\": 5, \"Subtotal\": 84.13541698384589, \"Tax\": 5.47, \"Total\": 89.70210897202662, \"User ID\": 8}'\n",
      "Message to be sent ->  b'{\"ID\": 46, \"Created At\": \"2018-06-14T03:09:15.751+05:30\", \"Discount\": NaN, \"Product ID\": 8, \"Quantity\": 4, \"Subtotal\": 98.83823503993958, \"Tax\": 6.42, \"Total\": 105.27220156289908, \"User ID\": 8}'\n",
      "Message to be sent ->  b'{\"ID\": 47, \"Created At\": \"2018-07-06T00:35:40.063+05:30\", \"Discount\": NaN, \"Product ID\": 104, \"Quantity\": 4, \"Subtotal\": 106.44215255778118, \"Tax\": 6.92, \"Total\": 113.50392637210302, \"User ID\": 8}'\n",
      "Message to be sent ->  b'{\"ID\": 48, \"Created At\": \"2019-05-16T20:17:06.720+05:30\", \"Discount\": NaN, \"Product ID\": 140, \"Quantity\": 5, \"Subtotal\": 66.80312547576881, \"Tax\": 4.34, \"Total\": 71.2513752413769, \"User ID\": 8}'\n",
      "Message to be sent ->  b'{\"ID\": 49, \"Created At\": \"2019-11-17T09:19:09.682+05:30\", \"Discount\": NaN, \"Product ID\": 157, \"Quantity\": 3, \"Subtotal\": 139.8942352373801, \"Tax\": 9.09, \"Total\": 149.0971082279313, \"User ID\": 8}'\n",
      "Message to be sent ->  b'{\"ID\": 50, \"Created At\": \"2018-01-01T07:26:31.444+05:30\", \"Discount\": NaN, \"Product ID\": 12, \"Quantity\": 2, \"Subtotal\": 116.01427581618326, \"Tax\": 7.54, \"Total\": 123.55572117178238, \"User ID\": 8}'\n",
      "Message to be sent ->  b'{\"ID\": 51, \"Created At\": \"2017-12-06T03:46:28.378+05:30\", \"Discount\": NaN, \"Product ID\": 114, \"Quantity\": 2, \"Subtotal\": 51.94130981241432, \"Tax\": 3.38, \"Total\": 55.25485080738503, \"User ID\": 8}'\n",
      "Message to be sent ->  b'{\"ID\": 52, \"Created At\": \"2018-07-15T23:04:22.325+05:30\", \"Discount\": NaN, \"Product ID\": 34, \"Quantity\": 3, \"Subtotal\": 74.30391386913199, \"Tax\": 4.46, \"Total\": 78.65666201120496, \"User ID\": 9}'\n",
      "Message to be sent ->  b'{\"ID\": 53, \"Created At\": \"2018-09-15T13:06:14.139+05:30\", \"Discount\": NaN, \"Product ID\": 79, \"Quantity\": 3, \"Subtotal\": 41.616917284159726, \"Tax\": 2.5, \"Total\": 44.22580561704055, \"User ID\": 9}'\n",
      "Message to be sent ->  b'{\"ID\": 54, \"Created At\": \"2018-10-26T20:41:23.428+05:30\", \"Discount\": 7.63762060148704, \"Product ID\": 68, \"Quantity\": 4, \"Subtotal\": 115.24343882309758, \"Tax\": 6.63, \"Total\": 122.11637851493803, \"User ID\": 10}'\n",
      "Message to be sent ->  b'{\"ID\": 55, \"Created At\": \"2017-08-16T09:51:35.096+05:30\", \"Discount\": NaN, \"Product ID\": 149, \"Quantity\": 5, \"Subtotal\": 46.10276691718616, \"Tax\": 2.65, \"Total\": 48.65911128333891, \"User ID\": 10}'\n",
      "Message to be sent ->  b'{\"ID\": 56, \"Created At\": \"2016-12-02T08:04:45.937+05:30\", \"Discount\": NaN, \"Product ID\": 109, \"Quantity\": 1, \"Subtotal\": 79.36660712128732, \"Tax\": 4.56, \"Total\": 84.05108407223999, \"User ID\": 10}'\n",
      "Message to be sent ->  b'{\"ID\": 57, \"Created At\": \"2020-02-05T03:28:52.924+05:30\", \"Discount\": NaN, \"Product ID\": 42, \"Quantity\": 1, \"Subtotal\": 38.00410713690931, \"Tax\": 2.19, \"Total\": 40.306509135573634, \"User ID\": 10}'\n",
      "Message to be sent ->  b'{\"ID\": 58, \"Created At\": \"2019-03-09T01:05:15.721+05:30\", \"Discount\": NaN, \"Product ID\": 91, \"Quantity\": 1, \"Subtotal\": 65.09432810381134, \"Tax\": 3.74, \"Total\": 68.88290318792109, \"User ID\": 10}'\n",
      "Message to be sent ->  b'{\"ID\": 59, \"Created At\": \"2019-04-11T18:53:36.645+05:30\", \"Discount\": NaN, \"Product ID\": 71, \"Quantity\": 1, \"Subtotal\": 82.80381898788684, \"Tax\": 4.76, \"Total\": 87.53637991989693, \"User ID\": 10}'\n",
      "Message to be sent ->  b'{\"ID\": 60, \"Created At\": \"2018-07-10T03:17:28.857+05:30\", \"Discount\": NaN, \"Product ID\": 92, \"Quantity\": 2, \"Subtotal\": 124.89242686579996, \"Tax\": 7.18, \"Total\": 132.22951658373907, \"User ID\": 10}'\n",
      "Message to be sent ->  b'{\"ID\": 61, \"Created At\": \"2019-09-23T11:07:08.376+05:30\", \"Discount\": NaN, \"Product ID\": 11, \"Quantity\": 3, \"Subtotal\": 132.45679913492563, \"Tax\": 7.62, \"Total\": 140.56266342560167, \"User ID\": 10}'\n",
      "Message to be sent ->  b'{\"ID\": 62, \"Created At\": \"2018-10-13T19:02:04.952+05:30\", \"Discount\": NaN, \"Product ID\": 198, \"Quantity\": 6, \"Subtotal\": 70.14610686710009, \"Tax\": 4.03, \"Total\": 74.17998651599399, \"User ID\": 10}'\n",
      "Message to be sent ->  b'{\"ID\": 63, \"Created At\": \"2018-04-14T19:47:06.649+05:30\", \"Discount\": NaN, \"Product ID\": 58, \"Quantity\": 3, \"Subtotal\": 78.14578007078882, \"Tax\": 4.49, \"Total\": 82.56808781434164, \"User ID\": 10}'\n",
      "Message to be sent ->  b'{\"ID\": 64, \"Created At\": \"2019-02-23T16:13:35.970+05:30\", \"Discount\": NaN, \"Product ID\": 65, \"Quantity\": 2, \"Subtotal\": 68.22769726470014, \"Tax\": 3.92, \"Total\": 72.26375031242301, \"User ID\": 10}'\n",
      "Message to be sent ->  b'{\"ID\": 65, \"Created At\": \"2018-09-14T23:33:17.679+05:30\", \"Discount\": NaN, \"Product ID\": 53, \"Quantity\": 5, \"Subtotal\": 44.27587240151534, \"Tax\": 2.55, \"Total\": 46.731824088077374, \"User ID\": 10}'\n",
      "Message to be sent ->  b'{\"ID\": 66, \"Created At\": \"2018-03-30T20:03:22.716+05:30\", \"Discount\": 3.4447251023245924, \"Product ID\": 15, \"Quantity\": 1, \"Subtotal\": 37.648145389078365, \"Tax\": 2.16, \"Total\": 39.76477470674226, \"User ID\": 10}'\n",
      "Message to be sent ->  b'{\"ID\": 67, \"Created At\": \"2018-05-30T05:01:21.334+05:30\", \"Discount\": 7.80684729448388, \"Product ID\": 152, \"Quantity\": 5, \"Subtotal\": 48.89568729900663, \"Tax\": 2.81, \"Total\": 51.718782977279055, \"User ID\": 10}'\n",
      "Message to be sent ->  b'{\"ID\": 68, \"Created At\": \"2019-05-28T14:47:23.973+05:30\", \"Discount\": NaN, \"Product ID\": 25, \"Quantity\": 5, \"Subtotal\": 68.62263967182464, \"Tax\": 2.74, \"Total\": 71.36659567437728, \"User ID\": 12}'\n",
      "Message to be sent ->  b'{\"ID\": 69, \"Created At\": \"2019-06-28T14:19:18.995+05:30\", \"Discount\": NaN, \"Product ID\": 183, \"Quantity\": 8, \"Subtotal\": 56.69741230191976, \"Tax\": 2.27, \"Total\": 59.09276090183358, \"User ID\": 12}'\n",
      "Message to be sent ->  b'{\"ID\": 70, \"Created At\": \"2019-11-21T11:21:36.739+05:30\", \"Discount\": NaN, \"Product ID\": 22, \"Quantity\": 3, \"Subtotal\": 32.136779940663494, \"Tax\": 1.29, \"Total\": 33.41808399293863, \"User ID\": 12}'\n",
      "Message to be sent ->  b'{\"ID\": 71, \"Created At\": \"2017-09-01T11:51:46.788+05:30\", \"Discount\": NaN, \"Product ID\": 161, \"Quantity\": 4, \"Subtotal\": 31.72747040864848, \"Tax\": 1.27, \"Total\": 32.940865882868835, \"User ID\": 12}'\n",
      "Message to be sent ->  b'{\"ID\": 72, \"Created At\": \"2017-07-18T10:51:55.733+05:30\", \"Discount\": NaN, \"Product ID\": 13, \"Quantity\": 5, \"Subtotal\": 75.0861692740371, \"Tax\": 3.0, \"Total\": 78.35146470419957, \"User ID\": 12}'\n",
      "Message to be sent ->  b'{\"ID\": 73, \"Created At\": \"2019-08-18T02:49:20.543+05:30\", \"Discount\": NaN, \"Product ID\": 122, \"Quantity\": 7, \"Subtotal\": 99.84528328808108, \"Tax\": 3.99, \"Total\": 103.7765084914419, \"User ID\": 12}'\n",
      "Message to be sent ->  b'{\"ID\": 74, \"Created At\": \"2020-02-20T00:36:30.807+05:30\", \"Discount\": 1.8457579767720556, \"Product ID\": 154, \"Quantity\": 1, \"Subtotal\": 81.87529553312261, \"Tax\": 3.28, \"Total\": 85.41374069109672, \"User ID\": 12}'\n",
      "Message to be sent ->  b'{\"ID\": 75, \"Created At\": \"2017-04-10T23:33:10.082+05:30\", \"Discount\": NaN, \"Product ID\": 13, \"Quantity\": 2, \"Subtotal\": 75.0861692740371, \"Tax\": 3.0, \"Total\": 77.95866140384386, \"User ID\": 12}'\n",
      "Message to be sent ->  b'{\"ID\": 76, \"Created At\": \"2016-12-19T19:40:17.782+05:30\", \"Discount\": NaN, \"Product ID\": 185, \"Quantity\": 2, \"Subtotal\": 26.384667225677735, \"Tax\": 1.72, \"Total\": 28.098902628941254, \"User ID\": 15}'\n",
      "Message to be sent ->  b'{\"ID\": 77, \"Created At\": \"2019-09-27T21:32:36.824+05:30\", \"Discount\": NaN, \"Product ID\": 86, \"Quantity\": 4, \"Subtotal\": 92.31436670850246, \"Tax\": 6.0, \"Total\": 98.58295820350529, \"User ID\": 15}'\n"
     ]
    },
    {
     "ename": "KeyboardInterrupt",
     "evalue": "",
     "output_type": "error",
     "traceback": [
      "\u001b[1;31m---------------------------------------------------------------------------\u001b[0m",
      "\u001b[1;31mKeyboardInterrupt\u001b[0m                         Traceback (most recent call last)",
      "Cell \u001b[1;32mIn[33], line 20\u001b[0m\n\u001b[0;32m     18\u001b[0m producer\u001b[38;5;241m.\u001b[39mproduce(topic_name,key\u001b[38;5;241m=\u001b[39m\u001b[38;5;124m'\u001b[39m\u001b[38;5;124mabc\u001b[39m\u001b[38;5;124m'\u001b[39m,value \u001b[38;5;241m=\u001b[39m message)\n\u001b[0;32m     19\u001b[0m producer\u001b[38;5;241m.\u001b[39mflush()\n\u001b[1;32m---> 20\u001b[0m time\u001b[38;5;241m.\u001b[39msleep(\u001b[38;5;241m1\u001b[39m)\n",
      "\u001b[1;31mKeyboardInterrupt\u001b[0m: "
     ]
    }
   ],
   "source": [
    "conf = {'bootstrap.servers': 'localhost:9092'\n",
    "        }\n",
    "topic_name = 'practice'\n",
    "file_path = '../PySpark/csv/orders.csv'\n",
    "df = pd.read_csv(file_path)\n",
    "print(df.head(1))\n",
    "student_records = df.to_dict(orient='records')\n",
    "print(student_records[0])\n",
    "print('Kafka Producer Started ......................')\n",
    "for record in student_records:\n",
    "        message = record\n",
    "        json_string = json.dumps(message)\n",
    "\n",
    "        # Convert the JSON string to bytes\n",
    "        message = json_string.encode('utf-8')\n",
    "        print(\"Message to be sent -> \",message)\n",
    "        producer = Producer(conf)\n",
    "        producer.produce(topic_name,key='abc',value = message)\n",
    "        producer.flush()\n",
    "        time.sleep(1)"
   ]
  },
  {
   "cell_type": "code",
   "execution_count": null,
   "metadata": {},
   "outputs": [],
   "source": []
  }
 ],
 "metadata": {
  "kernelspec": {
   "display_name": "Python 3 (ipykernel)",
   "language": "python",
   "name": "python3"
  },
  "language_info": {
   "codemirror_mode": {
    "name": "ipython",
    "version": 3
   },
   "file_extension": ".py",
   "mimetype": "text/x-python",
   "name": "python",
   "nbconvert_exporter": "python",
   "pygments_lexer": "ipython3",
   "version": "3.11.5"
  }
 },
 "nbformat": 4,
 "nbformat_minor": 2
}
