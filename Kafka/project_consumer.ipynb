{
 "cells": [
  {
   "cell_type": "code",
   "execution_count": 12,
   "metadata": {},
   "outputs": [
    {
     "name": "stdout",
     "output_type": "stream",
     "text": [
      "Requirement already satisfied: confluent-kafka in c:\\users\\infoobjects_\\desktop\\dataengineer\\pyspark\\venv\\lib\\site-packages (2.3.0)Note: you may need to restart the kernel to use updated packages.\n"
     ]
    },
    {
     "name": "stderr",
     "output_type": "stream",
     "text": [
      "\n",
      "[notice] A new release of pip is available: 23.2.1 -> 23.3.2\n",
      "[notice] To update, run: python.exe -m pip install --upgrade pip\n"
     ]
    },
    {
     "name": "stdout",
     "output_type": "stream",
     "text": [
      "\n"
     ]
    }
   ],
   "source": [
    "%pip install confluent-kafka"
   ]
  },
  {
   "cell_type": "code",
   "execution_count": 13,
   "metadata": {},
   "outputs": [],
   "source": [
    "from confluent_kafka import Consumer"
   ]
  },
  {
   "cell_type": "code",
   "execution_count": 14,
   "metadata": {},
   "outputs": [
    {
     "name": "stdout",
     "output_type": "stream",
     "text": [
      "Received message: {\"ID\": 1, \"Created At\": \"2019-02-11T21:40:27.892+05:30\", \"Discount\": NaN, \"Product ID\": 14, \"Quantity\": 2, \"Subtotal\": 37.648145389078365, \"Tax\": 2.07, \"Total\": 39.718145389078366, \"User ID\": 1}\n",
      "Received message: {\"ID\": 2, \"Created At\": \"2018-05-15T08:04:04.580+05:30\", \"Discount\": NaN, \"Product ID\": 123, \"Quantity\": 3, \"Subtotal\": 110.93145648834248, \"Tax\": 6.1, \"Total\": 117.0376564084763, \"User ID\": 1}\n",
      "Received message: {\"ID\": 3, \"Created At\": \"2019-12-06T22:22:48.544+05:30\", \"Discount\": 6.416679208849759, \"Product ID\": 105, \"Quantity\": 2, \"Subtotal\": 52.72352144261952, \"Tax\": 2.9, \"Total\": 55.62208681964182, \"User ID\": 1}\n",
      "Received message: {\"ID\": 4, \"Created At\": \"2019-08-22T16:30:42.392+05:30\", \"Discount\": NaN, \"Product ID\": 94, \"Quantity\": 6, \"Subtotal\": 109.21864156655384, \"Tax\": 6.01, \"Total\": 115.2207354961295, \"User ID\": 1}\n",
      "Received message: {\"ID\": 5, \"Created At\": \"2018-10-10T03:34:47.309+05:30\", \"Discount\": NaN, \"Product ID\": 132, \"Quantity\": 5, \"Subtotal\": 127.88197029833712, \"Tax\": 7.03, \"Total\": 134.9419293529647, \"User ID\": 1}\n",
      "Received message: {\"ID\": 6, \"Created At\": \"2019-11-06T16:38:50.134+05:30\", \"Discount\": NaN, \"Product ID\": 60, \"Quantity\": 3, \"Subtotal\": 29.80214751859149, \"Tax\": 1.64, \"Total\": 31.441679133237017, \"User ID\": 1}\n",
      "Received message: {\"ID\": 7, \"Created At\": \"2018-09-11T11:22:26.521+05:30\", \"Discount\": NaN, \"Product ID\": 55, \"Quantity\": 5, \"Subtotal\": 95.77128575934437, \"Tax\": 5.27, \"Total\": 101.0610510221304, \"User ID\": 1}\n",
      "Received message: {\"ID\": 8, \"Created At\": \"2019-06-17T02:37:41.693+05:30\", \"Discount\": 8.653952930206964, \"Product ID\": 65, \"Quantity\": 7, \"Subtotal\": 68.22769726470014, \"Tax\": 3.75, \"Total\": 71.9646003804807, \"User ID\": 1}\n",
      "Received message: {\"ID\": 9, \"Created At\": \"2017-05-03T16:00:54.923+05:30\", \"Discount\": 3.594742155259162, \"Product ID\": 184, \"Quantity\": 3, \"Subtotal\": 77.3982748679465, \"Tax\": 4.26, \"Total\": 81.6742695904106, \"User ID\": 1}\n",
      "Received message: {\"ID\": 10, \"Created At\": \"2020-01-17T01:44:37.233+05:30\", \"Discount\": NaN, \"Product ID\": 6, \"Quantity\": 2, \"Subtotal\": 97.43621265344382, \"Tax\": 5.36, \"Total\": 102.77055805103969, \"User ID\": 1}\n",
      "Received message: {\"ID\": 11, \"Created At\": \"2018-07-22T20:31:01.969+05:30\", \"Discount\": NaN, \"Product ID\": 76, \"Quantity\": 6, \"Subtotal\": 63.82421061366486, \"Tax\": 3.51, \"Total\": 67.30535713840213, \"User ID\": 1}\n",
      "Received message: {\"ID\": 12, \"Created At\": \"2018-06-26T23:21:13.271+05:30\", \"Discount\": NaN, \"Product ID\": 7, \"Quantity\": 7, \"Subtotal\": 148.22900526552291, \"Tax\": 10.19, \"Total\": 158.44538230476374, \"User ID\": 3}\n",
      "Received message: {\"ID\": 13, \"Created At\": \"2019-04-06T01:04:43.973+05:30\", \"Discount\": 2.1173410336074987, \"Product ID\": 70, \"Quantity\": 2, \"Subtotal\": 57.49300380895978, \"Tax\": 3.95, \"Total\": 61.42339339833593, \"User ID\": 3}\n",
      "Received message: {\"ID\": 14, \"Created At\": \"2017-05-25T20:50:37.137+05:30\", \"Discount\": NaN, \"Product ID\": 139, \"Quantity\": 4, \"Subtotal\": 51.18512212784679, \"Tax\": 3.52, \"Total\": 54.67137322414436, \"User ID\": 3}\n",
      "Received message: {\"ID\": 15, \"Created At\": \"2018-06-26T02:24:38.715+05:30\", \"Discount\": NaN, \"Product ID\": 116, \"Quantity\": 5, \"Subtotal\": 114.42485125407784, \"Tax\": 7.87, \"Total\": 122.30918146348137, \"User ID\": 3}\n",
      "Received message: {\"ID\": 16, \"Created At\": \"2017-12-14T11:28:30.031+05:30\", \"Discount\": NaN, \"Product ID\": 68, \"Quantity\": 1, \"Subtotal\": 76.82895921539838, \"Tax\": 5.28, \"Total\": 82.15964553750338, \"User ID\": 3}\n",
      "Received message: {\"ID\": 17, \"Created At\": \"2020-02-06T12:14:36.282+05:30\", \"Discount\": NaN, \"Product ID\": 48, \"Quantity\": 1, \"Subtotal\": 123.20884248534108, \"Tax\": 8.47, \"Total\": 131.65987891080383, \"User ID\": 3}\n",
      "Received message: {\"ID\": 18, \"Created At\": \"2020-04-10T23:29:46.804+05:30\", \"Discount\": NaN, \"Product ID\": 12, \"Quantity\": 2, \"Subtotal\": 116.01427581618326, \"Tax\": 7.98, \"Total\": 123.93528398902328, \"User ID\": 3}\n",
      "Received message: {\"ID\": 19, \"Created At\": \"2019-02-14T07:28:31.104+05:30\", \"Discount\": NaN, \"Product ID\": 136, \"Quantity\": 1, \"Subtotal\": 105.20402317157344, \"Tax\": 7.23, \"Total\": 112.53044509193752, \"User ID\": 3}\n",
      "Received message: {\"ID\": 20, \"Created At\": \"2018-04-21T04:18:01.863+05:30\", \"Discount\": 9.480671222888349, \"Product ID\": 160, \"Quantity\": 4, \"Subtotal\": 47.59120561297272, \"Tax\": 3.27, \"Total\": 50.86583592650371, \"User ID\": 3}\n",
      "Received message: {\"ID\": 21, \"Created At\": \"2018-05-02T03:57:22.388+05:30\", \"Discount\": NaN, \"Product ID\": 94, \"Quantity\": 5, \"Subtotal\": 109.21864156655384, \"Tax\": 7.51, \"Total\": 116.62982729669602, \"User ID\": 3}\n",
      "Received message: {\"ID\": 22, \"Created At\": \"2019-12-12T21:32:01.533+05:30\", \"Discount\": 6.752650070439861, \"Product ID\": 10, \"Quantity\": 1, \"Subtotal\": 47.6793282102869, \"Tax\": 1.38, \"Total\": 49.056071014283766, \"User ID\": 4}\n",
      "Received message: {\"ID\": 23, \"Created At\": \"2019-06-02T11:33:15.096+05:30\", \"Discount\": NaN, \"Product ID\": 85, \"Quantity\": 5, \"Subtotal\": 54.90104734428525, \"Tax\": 1.59, \"Total\": 56.5115886738793, \"User ID\": 4}\n",
      "Received message: {\"ID\": 24, \"Created At\": \"2019-09-20T17:28:38.643+05:30\", \"Discount\": NaN, \"Product ID\": 14, \"Quantity\": 6, \"Subtotal\": 37.648145389078365, \"Tax\": 1.09, \"Total\": 38.74860139651864, \"User ID\": 4}\n",
      "Received message: {\"ID\": 25, \"Created At\": \"2019-12-21T12:23:13.696+05:30\", \"Discount\": NaN, \"Product ID\": 97, \"Quantity\": 2, \"Subtotal\": 112.41825444654248, \"Tax\": 3.26, \"Total\": 115.64052715703252, \"User ID\": 4}\n",
      "Received message: {\"ID\": 26, \"Created At\": \"2018-06-20T02:18:00.254+05:30\", \"Discount\": NaN, \"Product ID\": 40, \"Quantity\": 5, \"Subtotal\": 99.66240044231697, \"Tax\": 3.99, \"Total\": 103.57613671689576, \"User ID\": 5}\n",
      "Received message: {\"ID\": 27, \"Created At\": \"2019-04-28T07:01:15.932+05:30\", \"Discount\": NaN, \"Product ID\": 14, \"Quantity\": 2, \"Subtotal\": 37.648145389078365, \"Tax\": 1.51, \"Total\": 39.11528698753412, \"User ID\": 6}\n",
      "Received message: {\"ID\": 28, \"Created At\": \"2018-05-23T18:15:24.432+05:30\", \"Discount\": 9.145059274307002, \"Product ID\": 49, \"Quantity\": 4, \"Subtotal\": 131.42865839323724, \"Tax\": 5.26, \"Total\": 136.77951877238797, \"User ID\": 6}\n",
      "Received message: {\"ID\": 29, \"Created At\": \"2018-03-07T22:56:54.735+05:30\", \"Discount\": NaN, \"Product ID\": 45, \"Quantity\": 1, \"Subtotal\": 118.0495173798411, \"Tax\": 4.72, \"Total\": 122.6773063807222, \"User ID\": 6}\n",
      "Received message: {\"ID\": 30, \"Created At\": \"2019-04-15T12:24:20.170+05:30\", \"Discount\": NaN, \"Product ID\": 179, \"Quantity\": 3, \"Subtotal\": 68.32408657333919, \"Tax\": 2.73, \"Total\": 71.02493653936602, \"User ID\": 6}\n",
      "Received message: {\"ID\": 31, \"Created At\": \"2018-05-22T04:28:04.569+05:30\", \"Discount\": NaN, \"Product ID\": 191, \"Quantity\": 6, \"Subtotal\": 128.5841852057933, \"Tax\": 9.0, \"Total\": 137.8019637279584, \"User ID\": 7}\n"
     ]
    },
    {
     "ename": "KeyboardInterrupt",
     "evalue": "",
     "output_type": "error",
     "traceback": [
      "\u001b[1;31m---------------------------------------------------------------------------\u001b[0m",
      "\u001b[1;31mKeyboardInterrupt\u001b[0m                         Traceback (most recent call last)",
      "Cell \u001b[1;32mIn[14], line 10\u001b[0m\n\u001b[0;32m      7\u001b[0m c\u001b[38;5;241m.\u001b[39msubscribe([\u001b[38;5;124m'\u001b[39m\u001b[38;5;124mpractice\u001b[39m\u001b[38;5;124m'\u001b[39m])\n\u001b[0;32m      9\u001b[0m \u001b[38;5;28;01mwhile\u001b[39;00m \u001b[38;5;28;01mTrue\u001b[39;00m:\n\u001b[1;32m---> 10\u001b[0m     msg \u001b[38;5;241m=\u001b[39m \u001b[43mc\u001b[49m\u001b[38;5;241;43m.\u001b[39;49m\u001b[43mpoll\u001b[49m\u001b[43m(\u001b[49m\u001b[38;5;241;43m1.0\u001b[39;49m\u001b[43m)\u001b[49m\n\u001b[0;32m     12\u001b[0m     \u001b[38;5;28;01mif\u001b[39;00m msg \u001b[38;5;129;01mis\u001b[39;00m \u001b[38;5;28;01mNone\u001b[39;00m:\n\u001b[0;32m     13\u001b[0m         \u001b[38;5;28;01mcontinue\u001b[39;00m\n",
      "\u001b[1;31mKeyboardInterrupt\u001b[0m: "
     ]
    }
   ],
   "source": [
    "c = Consumer({\n",
    "    'bootstrap.servers': 'localhost:9092',\n",
    "    'group.id': 'practice',\n",
    "    'auto.offset.reset': 'earliest'\n",
    "})\n",
    "\n",
    "c.subscribe(['practice'])\n",
    "\n",
    "while True:\n",
    "    msg = c.poll(1.0)\n",
    "\n",
    "    if msg is None:\n",
    "        continue\n",
    "    if msg.error():\n",
    "        print(\"Consumer error: {}\".format(msg.error()))\n",
    "        continue\n",
    "\n",
    "    print('Received message: {}'.format(msg.value().decode('utf-8')))\n",
    "\n",
    "c.close()"
   ]
  }
 ],
 "metadata": {
  "kernelspec": {
   "display_name": "Python 3 (ipykernel)",
   "language": "python",
   "name": "python3"
  },
  "language_info": {
   "codemirror_mode": {
    "name": "ipython",
    "version": 3
   },
   "file_extension": ".py",
   "mimetype": "text/x-python",
   "name": "python",
   "nbconvert_exporter": "python",
   "pygments_lexer": "ipython3",
   "version": "3.11.5"
  }
 },
 "nbformat": 4,
 "nbformat_minor": 2
}
