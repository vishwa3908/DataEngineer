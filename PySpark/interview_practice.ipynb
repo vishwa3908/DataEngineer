{
 "cells": [
  {
   "cell_type": "code",
   "execution_count": 1,
   "metadata": {},
   "outputs": [],
   "source": [
    "from pyspark.sql import SparkSession"
   ]
  },
  {
   "cell_type": "code",
   "execution_count": 2,
   "metadata": {},
   "outputs": [],
   "source": [
    "spark = SparkSession.builder.appName('test').getOrCreate()\n",
    "sc = spark.sparkContext"
   ]
  },
  {
   "cell_type": "code",
   "execution_count": 3,
   "metadata": {},
   "outputs": [
    {
     "name": "stdout",
     "output_type": "stream",
     "text": [
      "(1, '2024-01-24 08:00:00', 101, 'completed')\n"
     ]
    }
   ],
   "source": [
    "data = [\n",
    "    (1, \"2024-01-24 08:00:00\", 101, \"completed\"),\n",
    "    (2, \"2024-01-24 08:30:00\", 102, \"processing\"),\n",
    "    (3, \"2024-01-24 09:00:00\", 103, \"pending_payment\"),\n",
    "    (4, \"2024-01-24 09:30:00\", 104, \"completed\"),\n",
    "    (5, \"2024-01-24 10:00:00\", 105, \"processing\"),\n",
    "    (6, \"2024-01-24 10:30:00\", 106, \"pending_payment\"),\n",
    "    (7, \"2024-01-24 11:00:00\", 107, \"closed\"),\n",
    "    (8, \"2024-01-24 11:30:00\", 108, \"completed\"),\n",
    "    (9, \"2024-01-24 12:00:00\", 109, \"processing\"),\n",
    "    (10, \"2024-01-24 12:30:00\", 110, \"completed\"),\n",
    "    (11, \"2024-01-24 13:00:00\", 111, \"pending_payment\"),\n",
    "    (12, \"2024-01-24 13:30:00\", 112, \"processing\"),\n",
    "    (13, \"2024-01-24 14:00:00\", 113, \"completed\"),\n",
    "    (14, \"2024-01-24 14:30:00\", 114, \"pending_payment\"),\n",
    "    (15, \"2024-01-24 15:00:00\", 115, \"closed\"),\n",
    "    (16, \"2024-01-24 15:30:00\", 116, \"completed\"),\n",
    "    (17, \"2024-01-24 16:00:00\", 117, \"processing\"),\n",
    "    (18, \"2024-01-24 16:30:00\", 118, \"pending_payment\"),\n",
    "    (19, \"2024-01-24 17:00:00\", 119, \"completed\"),\n",
    "    (20, \"2024-01-24 17:30:00\", 120, \"processing\"),\n",
    "    (21, \"2024-01-24 18:00:00\", 121, \"pending_payment\"),\n",
    "    (22, \"2024-01-24 18:30:00\", 122, \"closed\"),\n",
    "    (23, \"2024-01-24 19:00:00\", 123, \"completed\"),\n",
    "    (24, \"2024-01-24 19:30:00\", 124, \"processing\"),\n",
    "    (25, \"2024-01-24 20:00:00\", 125, \"completed\"),\n",
    "    (26, \"2024-01-24 20:30:00\", 126, \"pending_payment\"),\n",
    "    (27, \"2024-01-24 21:00:00\", 127, \"processing\"),\n",
    "    (28, \"2024-01-24 21:30:00\", 128, \"completed\"),\n",
    "]\n",
    "test_rdd = sc.parallelize(data)\n",
    "\n",
    "print(test_rdd.collect()[0])\n"
   ]
  },
  {
   "cell_type": "markdown",
   "metadata": {},
   "source": [
    "### 1. Count the orders in each status ?"
   ]
  },
  {
   "cell_type": "code",
   "execution_count": 4,
   "metadata": {},
   "outputs": [],
   "source": [
    "new_test_rdd = test_rdd.map(lambda x: x[1])\n",
    "print(new_test_rdd.collect())"
   ]
  },
  {
   "cell_type": "code",
   "execution_count": null,
   "metadata": {},
   "outputs": [],
   "source": []
  }
 ],
 "metadata": {
  "kernelspec": {
   "display_name": "Python 3 (ipykernel)",
   "language": "python",
   "name": "python3"
  },
  "language_info": {
   "codemirror_mode": {
    "name": "ipython",
    "version": 3
   },
   "file_extension": ".py",
   "mimetype": "text/x-python",
   "name": "python",
   "nbconvert_exporter": "python",
   "pygments_lexer": "ipython3",
   "version": "3.11.5"
  }
 },
 "nbformat": 4,
 "nbformat_minor": 2
}
