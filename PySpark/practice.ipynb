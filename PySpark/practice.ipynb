{
 "cells": [
  {
   "cell_type": "code",
   "execution_count": 6,
   "metadata": {},
   "outputs": [],
   "source": [
    "from pyspark.sql import SparkSession\n",
    "from pyspark.sql.functions import lit,concat,concat_ws,when,to_date,col,udf\n",
    "from pyspark.sql.types import StringType\n",
    "spark = SparkSession.builder.appName('test').getOrCreate()\n",
    "from random import randint"
   ]
  },
  {
   "cell_type": "code",
   "execution_count": 7,
   "metadata": {},
   "outputs": [
    {
     "name": "stdout",
     "output_type": "stream",
     "text": [
      "+------+----------+---------+-------------+--------------------+------+-------------------+\n",
      "|    id|first_name|last_name|date_of_birth|           ethnicity|gender|              email|\n",
      "+------+----------+---------+-------------+--------------------+------+-------------------+\n",
      "|111111|      John|      Doe|   01-01-2000|            Hispanic|     M|   jdoe@example.com|\n",
      "|111112|      Jane|    Smith|   01-05-2001|            Hispanic|     F| jsmith@example.com|\n",
      "|111113|     Sarah|   Thomas|   02-01-2002|            Hispanic|     M|sthomas@example.com|\n",
      "|111114|     Frank|    Brown|   01-03-2002|Race/ethnicity un...|     M| fbrown@example.com|\n",
      "|111115|      Mike|    Davis|   03-01-2001|               White|     F| mdavis@example.com|\n",
      "|111116|  Jennifer|   Wilson|   01-01-2002|               Asian|     M|jwilson@example.com|\n",
      "|111117|   Jessica|   Garcia|   01-01-2000|               White|     F|jgarcia@example.com|\n",
      "|111118|      Fred|    Clark|   01-07-1999|            Hispanic|     F| fclark@example.com|\n",
      "|111119|       Bob|    Lopez|   01-04-1998|               White|     F| blopez@example.com|\n",
      "+------+----------+---------+-------------+--------------------+------+-------------------+\n",
      "\n"
     ]
    }
   ],
   "source": [
    "df = spark.read.option('header','True').csv('csv/students - Sheet1.csv')\n",
    "df.show()"
   ]
  },
  {
   "cell_type": "code",
   "execution_count": 8,
   "metadata": {},
   "outputs": [
    {
     "name": "stdout",
     "output_type": "stream",
     "text": [
      "+------+----------+---------+-------------+--------------------+------+-------------------+---------------+\n",
      "|    id|first_name|last_name|date_of_birth|           ethnicity|gender|              email|       FullName|\n",
      "+------+----------+---------+-------------+--------------------+------+-------------------+---------------+\n",
      "|111111|      John|      Doe|   01-01-2000|            Hispanic|     M|   jdoe@example.com|       John Doe|\n",
      "|111112|      Jane|    Smith|   01-05-2001|            Hispanic|     F| jsmith@example.com|     Jane Smith|\n",
      "|111113|     Sarah|   Thomas|   02-01-2002|            Hispanic|     M|sthomas@example.com|   Sarah Thomas|\n",
      "|111114|     Frank|    Brown|   01-03-2002|Race/ethnicity un...|     M| fbrown@example.com|    Frank Brown|\n",
      "|111115|      Mike|    Davis|   03-01-2001|               White|     F| mdavis@example.com|     Mike Davis|\n",
      "|111116|  Jennifer|   Wilson|   01-01-2002|               Asian|     M|jwilson@example.com|Jennifer Wilson|\n",
      "|111117|   Jessica|   Garcia|   01-01-2000|               White|     F|jgarcia@example.com| Jessica Garcia|\n",
      "|111118|      Fred|    Clark|   01-07-1999|            Hispanic|     F| fclark@example.com|     Fred Clark|\n",
      "|111119|       Bob|    Lopez|   01-04-1998|               White|     F| blopez@example.com|      Bob Lopez|\n",
      "+------+----------+---------+-------------+--------------------+------+-------------------+---------------+\n",
      "\n"
     ]
    }
   ],
   "source": [
    "df = df.withColumn(\"FullName\",concat_ws(\" \",df.first_name,df.last_name))\n",
    "df.show()"
   ]
  },
  {
   "cell_type": "code",
   "execution_count": 9,
   "metadata": {},
   "outputs": [
    {
     "name": "stdout",
     "output_type": "stream",
     "text": [
      "['id', 'first_name', 'last_name', 'date_of_birth', 'ethnicity', 'gender', 'email', 'FullName']\n"
     ]
    },
    {
     "name": "stdout",
     "output_type": "stream",
     "text": [
      "+------+----------+---------+---------------+------+--------------------+-------------+-------------------+------+\n",
      "|    Id|First_name|Last_name|       Fullname|Gender|           Ethnicity|Date_of_birth|              Email|Salary|\n",
      "+------+----------+---------+---------------+------+--------------------+-------------+-------------------+------+\n",
      "|111111|      John|      Doe|       John Doe|     M|            Hispanic|   01-01-2000|   jdoe@example.com| 30270|\n",
      "|111112|      Jane|    Smith|     Jane Smith|     F|            Hispanic|   01-05-2001| jsmith@example.com| 22162|\n",
      "|111113|     Sarah|   Thomas|   Sarah Thomas|     M|            Hispanic|   02-01-2002|sthomas@example.com| 30270|\n",
      "|111114|     Frank|    Brown|    Frank Brown|     M|Race/ethnicity un...|   01-03-2002| fbrown@example.com| 30270|\n",
      "|111115|      Mike|    Davis|     Mike Davis|     F|               White|   03-01-2001| mdavis@example.com| 22162|\n",
      "|111116|  Jennifer|   Wilson|Jennifer Wilson|     M|               Asian|   01-01-2002|jwilson@example.com| 30270|\n",
      "|111117|   Jessica|   Garcia| Jessica Garcia|     F|               White|   01-01-2000|jgarcia@example.com| 22162|\n",
      "|111118|      Fred|    Clark|     Fred Clark|     F|            Hispanic|   01-07-1999| fclark@example.com| 22162|\n",
      "|111119|       Bob|    Lopez|      Bob Lopez|     F|               White|   01-04-1998| blopez@example.com| 22162|\n",
      "+------+----------+---------+---------------+------+--------------------+-------------+-------------------+------+\n",
      "\n"
     ]
    }
   ],
   "source": [
    "listofcolumns = df.columns\n",
    "print(listofcolumns)\n",
    "for colmn in listofcolumns:\n",
    "    df = df.withColumnRenamed(colmn,colmn.capitalize())\n",
    "df = df.select('Id','First_name','Last_name','Fullname','Gender','Ethnicity','Date_of_birth','Email').withColumn('Salary',lit(None))\n",
    "df = df.withColumn('Salary',when(df.Gender=='M',randint(25000,35000)).when(df.Gender=='F',randint(15000,24000)))\n",
    "df.show()\n",
    "# df.select(to_date(col('Date_of_birth'),\"dd-MM-yyyy\")).show()"
   ]
  },
  {
   "cell_type": "code",
   "execution_count": 10,
   "metadata": {},
   "outputs": [
    {
     "name": "stdout",
     "output_type": "stream",
     "text": [
      "root\n",
      " |-- Id: string (nullable = true)\n",
      " |-- First_name: string (nullable = true)\n",
      " |-- Last_name: string (nullable = true)\n",
      " |-- Fullname: string (nullable = false)\n",
      " |-- Gender: string (nullable = true)\n",
      " |-- Ethnicity: string (nullable = true)\n",
      " |-- Date_of_birth: string (nullable = true)\n",
      " |-- Email: string (nullable = true)\n",
      " |-- Salary: integer (nullable = true)\n",
      "\n",
      "+------+----------+---------+---------------+------+--------------------+-------------+-------------------+------+\n",
      "|    Id|First_name|Last_name|       Fullname|Gender|           Ethnicity|Date_of_birth|              Email|Salary|\n",
      "+------+----------+---------+---------------+------+--------------------+-------------+-------------------+------+\n",
      "|111111|      John|      Doe|       John Doe|     M|            Hispanic|   01-01-2000|   jdoe@example.com| 30270|\n",
      "|111112|      Jane|    Smith|     Jane Smith|     F|            Hispanic|   01-05-2001| jsmith@example.com| 22162|\n",
      "|111113|     Sarah|   Thomas|   Sarah Thomas|     M|            Hispanic|   02-01-2002|sthomas@example.com| 30270|\n",
      "|111114|     Frank|    Brown|    Frank Brown|     M|Race/ethnicity un...|   01-03-2002| fbrown@example.com| 30270|\n",
      "|111115|      Mike|    Davis|     Mike Davis|     F|               White|   03-01-2001| mdavis@example.com| 22162|\n",
      "|111116|  Jennifer|   Wilson|Jennifer Wilson|     M|               Asian|   01-01-2002|jwilson@example.com| 30270|\n",
      "|111117|   Jessica|   Garcia| Jessica Garcia|     F|               White|   01-01-2000|jgarcia@example.com| 22162|\n",
      "|111118|      Fred|    Clark|     Fred Clark|     F|            Hispanic|   01-07-1999| fclark@example.com| 22162|\n",
      "|111119|       Bob|    Lopez|      Bob Lopez|     F|               White|   01-04-1998| blopez@example.com| 22162|\n",
      "+------+----------+---------+---------------+------+--------------------+-------------+-------------------+------+\n",
      "\n"
     ]
    }
   ],
   "source": [
    "def give_ranking(salary,gender):\n",
    "    if gender == 'M' and salary > 24000:\n",
    "        return \"level1\"\n",
    "    elif gender == 'M' and salary <=24000:\n",
    "        return 'level2'\n",
    "    elif gender == 'F' and salary > 15000:\n",
    "        return 'level1'\n",
    "    elif gender == 'F' and salary <=15000:\n",
    "        return 'level2'\n",
    "    else:\n",
    "        return None\n",
    "df.printSchema()\n",
    "update_level = udf(lambda s,g:give_ranking(s,g),StringType())\n",
    "df.show()\n",
    "# df_1 = df.withColumn('Ranking',update_level(df['Salary'],df['Gender']))\n",
    "# df_1.show()"
   ]
  },
  {
   "cell_type": "code",
   "execution_count": 16,
   "metadata": {},
   "outputs": [
    {
     "name": "stdout",
     "output_type": "stream",
     "text": [
      "<class 'datetime.timedelta'>\n"
     ]
    }
   ],
   "source": [
    "import datetime\n",
    "a = \"2000-01-01\"\n",
    "a = datetime.datetime.strptime(a, \"%Y-%d-%m\").date()\n",
    "print(type(datetime.date.today()-a))\n",
    "\n"
   ]
  },
  {
   "cell_type": "code",
   "execution_count": null,
   "metadata": {},
   "outputs": [],
   "source": []
  }
 ],
 "metadata": {
  "kernelspec": {
   "display_name": "Python 3 (ipykernel)",
   "language": "python",
   "name": "python3"
  },
  "language_info": {
   "codemirror_mode": {
    "name": "ipython",
    "version": 3
   },
   "file_extension": ".py",
   "mimetype": "text/x-python",
   "name": "python",
   "nbconvert_exporter": "python",
   "pygments_lexer": "ipython3",
   "version": "3.11.5"
  }
 },
 "nbformat": 4,
 "nbformat_minor": 2
}
